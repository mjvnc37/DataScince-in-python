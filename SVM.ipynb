{
  "nbformat": 4,
  "nbformat_minor": 0,
  "metadata": {
    "colab": {
      "provenance": [],
      "mount_file_id": "1sBsxDOA-Ko2TnEcMoLBb7sgdhVRAyPSm",
      "authorship_tag": "ABX9TyN2mrGib8fA83EsoXF+W7dR",
      "include_colab_link": true
    },
    "kernelspec": {
      "name": "python3",
      "display_name": "Python 3"
    },
    "language_info": {
      "name": "python"
    }
  },
  "cells": [
    {
      "cell_type": "markdown",
      "metadata": {
        "id": "view-in-github",
        "colab_type": "text"
      },
      "source": [
        "<a href=\"https://colab.research.google.com/github/mjvnc37/DataScince-in-python/blob/main/SVM.ipynb\" target=\"_parent\"><img src=\"https://colab.research.google.com/assets/colab-badge.svg\" alt=\"Open In Colab\"/></a>"
      ]
    },
    {
      "cell_type": "code",
      "execution_count": 1,
      "metadata": {
        "colab": {
          "base_uri": "https://localhost:8080/"
        },
        "id": "Ty-up-6fMgKX",
        "outputId": "055dd514-e935-4683-cdea-facae07bfb55"
      },
      "outputs": [
        {
          "output_type": "stream",
          "name": "stdout",
          "text": [
            "    fruit_label fruit_name     fruit_subtype  mass  width  height  color_score\n",
            "0             1      apple      granny_smith   192    8.4     7.3         0.55\n",
            "1             1      apple      granny_smith   180    8.0     6.8         0.59\n",
            "2             1      apple      granny_smith   176    7.4     7.2         0.60\n",
            "3             2   mandarin          mandarin    86    6.2     4.7         0.80\n",
            "4             2   mandarin          mandarin    84    6.0     4.6         0.79\n",
            "5             2   mandarin          mandarin    80    5.8     4.3         0.77\n",
            "6             2   mandarin          mandarin    80    5.9     4.3         0.81\n",
            "7             2   mandarin          mandarin    76    5.8     4.0         0.81\n",
            "8             1      apple          braeburn   178    7.1     7.8         0.92\n",
            "9             1      apple          braeburn   172    7.4     7.0         0.89\n",
            "10            1      apple          braeburn   166    6.9     7.3         0.93\n",
            "11            1      apple          braeburn   172    7.1     7.6         0.92\n",
            "12            1      apple          braeburn   154    7.0     7.1         0.88\n",
            "13            1      apple  golden_delicious   164    7.3     7.7         0.70\n",
            "14            1      apple  golden_delicious   152    7.6     7.3         0.69\n",
            "15            1      apple  golden_delicious   156    7.7     7.1         0.69\n",
            "16            1      apple  golden_delicious   156    7.6     7.5         0.67\n",
            "17            1      apple  golden_delicious   168    7.5     7.6         0.73\n",
            "18            1      apple       cripps_pink   162    7.5     7.1         0.83\n",
            "19            1      apple       cripps_pink   162    7.4     7.2         0.85\n",
            "20            1      apple       cripps_pink   160    7.5     7.5         0.86\n",
            "21            1      apple       cripps_pink   156    7.4     7.4         0.84\n",
            "22            1      apple       cripps_pink   140    7.3     7.1         0.87\n",
            "23            1      apple       cripps_pink   170    7.6     7.9         0.88\n",
            "24            3     orange     spanish_jumbo   342    9.0     9.4         0.75\n",
            "25            3     orange     spanish_jumbo   356    9.2     9.2         0.75\n",
            "26            3     orange     spanish_jumbo   362    9.6     9.2         0.74\n",
            "27            3     orange  selected_seconds   204    7.5     9.2         0.77\n",
            "28            3     orange  selected_seconds   140    6.7     7.1         0.72\n",
            "29            3     orange  selected_seconds   160    7.0     7.4         0.81\n",
            "30            3     orange  selected_seconds   158    7.1     7.5         0.79\n",
            "31            3     orange  selected_seconds   210    7.8     8.0         0.82\n",
            "32            3     orange  selected_seconds   164    7.2     7.0         0.80\n",
            "33            3     orange      turkey_navel   190    7.5     8.1         0.74\n",
            "34            3     orange      turkey_navel   142    7.6     7.8         0.75\n",
            "35            3     orange      turkey_navel   150    7.1     7.9         0.75\n",
            "36            3     orange      turkey_navel   160    7.1     7.6         0.76\n",
            "37            3     orange      turkey_navel   154    7.3     7.3         0.79\n",
            "38            3     orange      turkey_navel   158    7.2     7.8         0.77\n",
            "39            3     orange      turkey_navel   144    6.8     7.4         0.75\n",
            "40            3     orange      turkey_navel   154    7.1     7.5         0.78\n",
            "41            3     orange      turkey_navel   180    7.6     8.2         0.79\n",
            "42            3     orange      turkey_navel   154    7.2     7.2         0.82\n",
            "43            4      lemon    spanish_belsan   194    7.2    10.3         0.70\n",
            "44            4      lemon    spanish_belsan   200    7.3    10.5         0.72\n",
            "45            4      lemon    spanish_belsan   186    7.2     9.2         0.72\n",
            "46            4      lemon    spanish_belsan   216    7.3    10.2         0.71\n",
            "47            4      lemon    spanish_belsan   196    7.3     9.7         0.72\n",
            "48            4      lemon    spanish_belsan   174    7.3    10.1         0.72\n",
            "49            4      lemon           unknown   132    5.8     8.7         0.73\n",
            "50            4      lemon           unknown   130    6.0     8.2         0.71\n",
            "51            4      lemon           unknown   116    6.0     7.5         0.72\n",
            "52            4      lemon           unknown   118    5.9     8.0         0.72\n",
            "53            4      lemon           unknown   120    6.0     8.4         0.74\n",
            "54            4      lemon           unknown   116    6.1     8.5         0.71\n",
            "55            4      lemon           unknown   116    6.3     7.7         0.72\n",
            "56            4      lemon           unknown   116    5.9     8.1         0.73\n",
            "57            4      lemon           unknown   152    6.5     8.5         0.72\n",
            "58            4      lemon           unknown   118    6.1     8.1         0.70\n"
          ]
        }
      ],
      "source": [
        "%matplotlib inline\n",
        "import pandas as pd\n",
        "import matplotlib.pyplot as plt\n",
        "fruits = pd.read_table('/content/drive/MyDrive/datasets/fruit_data_with_colors.txt')\n",
        "print(fruits)"
      ]
    },
    {
      "cell_type": "code",
      "source": [
        "print(fruits.shape)"
      ],
      "metadata": {
        "colab": {
          "base_uri": "https://localhost:8080/"
        },
        "id": "f_cW3RIDM7dp",
        "outputId": "c811249e-b169-401f-a7a0-0a8f58921179"
      },
      "execution_count": 2,
      "outputs": [
        {
          "output_type": "stream",
          "name": "stdout",
          "text": [
            "(59, 7)\n"
          ]
        }
      ]
    },
    {
      "cell_type": "code",
      "source": [
        "print(fruits['fruit_name'].unique())"
      ],
      "metadata": {
        "colab": {
          "base_uri": "https://localhost:8080/"
        },
        "id": "20-yREOINUp4",
        "outputId": "ae7578e6-d0f0-4178-d240-3591789295e5"
      },
      "execution_count": 3,
      "outputs": [
        {
          "output_type": "stream",
          "name": "stdout",
          "text": [
            "['apple' 'mandarin' 'orange' 'lemon']\n"
          ]
        }
      ]
    },
    {
      "cell_type": "code",
      "source": [
        "print(fruits.groupby('fruit_name').size())"
      ],
      "metadata": {
        "colab": {
          "base_uri": "https://localhost:8080/"
        },
        "id": "McEopN60NUlg",
        "outputId": "a223cb32-643a-41e4-9bed-90e9f14747cb"
      },
      "execution_count": 4,
      "outputs": [
        {
          "output_type": "stream",
          "name": "stdout",
          "text": [
            "fruit_name\n",
            "apple       19\n",
            "lemon       16\n",
            "mandarin     5\n",
            "orange      19\n",
            "dtype: int64\n"
          ]
        }
      ]
    },
    {
      "cell_type": "code",
      "source": [
        "import seaborn as sns\n",
        "sns.countplot(fruits['mass'],label=\"Count\")\n",
        "plt.show()"
      ],
      "metadata": {
        "colab": {
          "base_uri": "https://localhost:8080/",
          "height": 430
        },
        "id": "-QSiWhszNUgR",
        "outputId": "f5664c03-f768-41fc-b0c4-8ae9e6f44503"
      },
      "execution_count": 7,
      "outputs": [
        {
          "output_type": "display_data",
          "data": {
            "text/plain": [
              "<Figure size 640x480 with 1 Axes>"
            ],
            "image/png": "[encoded data removed]"
          },
          "metadata": {}
        }
      ]
    },
    {
      "cell_type": "code",
      "source": [
        "import pandas as pd\n",
        "\n",
        "fruits = pd.read_table('/content/drive/MyDrive/datasets/fruit_data_with_colors.txt')\n",
        "feature_names = ['mass', 'width', 'height', 'color_score']\n",
        "X = fruits[feature_names]\n",
        "y = fruits['fruit_label']                               # y only label\n",
        "\n",
        "from sklearn.model_selection import train_test_split\n",
        "X_train, X_test, y_train, y_test = train_test_split(X, y, random_state=0)\n",
        "from sklearn.preprocessing import MinMaxScaler\n",
        "scaler = MinMaxScaler()\n",
        "X_train = scaler.fit_transform(X_train)\n",
        "X_test = scaler.transform(X_test)\n"
      ],
      "metadata": {
        "id": "C0wdm8I2NUZg"
      },
      "execution_count": 12,
      "outputs": []
    },
    {
      "cell_type": "code",
      "source": [
        "# Decision Tree classifier\n",
        "from sklearn.tree import DecisionTreeClassifier\n",
        "clf = DecisionTreeClassifier().fit(X_train, y_train)\n",
        "print('Accuracy of Decision Tree classifier on training set: {:.2f}'\n",
        "     .format(clf.score(X_train, y_train)))\n",
        "print('Accuracy of Decision Tree classifier on test set: {:.2f}'\n",
        "     .format(clf.score(X_test, y_test)))"
      ],
      "metadata": {
        "colab": {
          "base_uri": "https://localhost:8080/"
        },
        "id": "YBknjaKPN4oI",
        "outputId": "1c185f6a-6a5e-419c-92d7-c0d921e87edf"
      },
      "execution_count": 13,
      "outputs": [
        {
          "output_type": "stream",
          "name": "stdout",
          "text": [
            "Accuracy of Decision Tree classifier on training set: 1.00\n",
            "Accuracy of Decision Tree classifier on test set: 0.73\n"
          ]
        }
      ]
    },
    {
      "cell_type": "code",
      "source": [
        "#K-Nearest Neighbors\n",
        "from sklearn.neighbors import KNeighborsClassifier\n",
        "knn = KNeighborsClassifier()\n",
        "knn.fit(X_train, y_train)\n",
        "print('Accuracy of K-NN classifier on training set: {:.2f}'\n",
        "     .format(knn.score(X_train, y_train)))\n",
        "print('Accuracy of K-NN classifier on test set: {:.2f}'\n",
        "     .format(knn.score(X_test, y_test)))"
      ],
      "metadata": {
        "colab": {
          "base_uri": "https://localhost:8080/"
        },
        "id": "ryWqW02JOaR5",
        "outputId": "17a63df5-5e68-42d1-96e2-4a118473cc11"
      },
      "execution_count": 14,
      "outputs": [
        {
          "output_type": "stream",
          "name": "stdout",
          "text": [
            "Accuracy of K-NN classifier on training set: 0.95\n",
            "Accuracy of K-NN classifier on test set: 1.00\n"
          ]
        }
      ]
    },
    {
      "cell_type": "code",
      "source": [
        "#Logistic Regression\n",
        "from sklearn.linear_model import LogisticRegression\n",
        "logreg = LogisticRegression()\n",
        "logreg.fit(X_train, y_train)\n",
        "print('Accuracy of Logistic regression classifier on training set: {:.2f}'\n",
        "     .format(logreg.score(X_train, y_train)))\n",
        "print('Accuracy of Logistic regression classifier on test set: {:.2f}'\n",
        "     .format(logreg.score(X_test, y_test)))"
      ],
      "metadata": {
        "colab": {
          "base_uri": "https://localhost:8080/"
        },
        "id": "KUNKJZ9JOd8N",
        "outputId": "76d13601-e277-4def-deaf-6d82f6b76ffc"
      },
      "execution_count": 15,
      "outputs": [
        {
          "output_type": "stream",
          "name": "stdout",
          "text": [
            "Accuracy of Logistic regression classifier on training set: 0.75\n",
            "Accuracy of Logistic regression classifier on test set: 0.47\n"
          ]
        }
      ]
    },
    {
      "cell_type": "code",
      "source": [
        "#Support Vector Machine\n",
        "from sklearn.svm import SVC\n",
        "svm = SVC()\n",
        "svm.fit(X_train, y_train)\n",
        "print('Accuracy of SVM classifier on training set: {:.2f}'\n",
        "     .format(svm.score(X_train, y_train)))\n",
        "print('Accuracy of SVM classifier on test set: {:.2f}'\n",
        "     .format(svm.score(X_test, y_test)))"
      ],
      "metadata": {
        "colab": {
          "base_uri": "https://localhost:8080/"
        },
        "id": "2lYgrnkWOiO1",
        "outputId": "1fda8bf7-9789-4e73-e213-687f0b1f0f50"
      },
      "execution_count": 16,
      "outputs": [
        {
          "output_type": "stream",
          "name": "stdout",
          "text": [
            "Accuracy of SVM classifier on training set: 0.91\n",
            "Accuracy of SVM classifier on test set: 0.80\n"
          ]
        }
      ]
    },
    {
      "cell_type": "code",
      "source": [],
      "metadata": {
        "id": "VuiuSAHLOos1"
      },
      "execution_count": null,
      "outputs": []
    }
  ]
}