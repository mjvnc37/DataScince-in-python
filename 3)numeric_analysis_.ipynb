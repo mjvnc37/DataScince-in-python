{
  "nbformat": 4,
  "nbformat_minor": 0,
  "metadata": {
    "colab": {
      "provenance": [],
      "authorship_tag": "ABX9TyNlHGUHVEMk1DXGYl77BT/L",
      "include_colab_link": true
    },
    "kernelspec": {
      "name": "python3",
      "display_name": "Python 3"
    },
    "language_info": {
      "name": "python"
    }
  },
  "cells": [
    {
      "cell_type": "markdown",
      "metadata": {
        "id": "view-in-github",
        "colab_type": "text"
      },
      "source": [
        "<a href=\"https://colab.research.google.com/github/mjvnc37/DataScince-in-python/blob/main/3)numeric_analysis_.ipynb\" target=\"_parent\"><img src=\"https://colab.research.google.com/assets/colab-badge.svg\" alt=\"Open In Colab\"/></a>"
      ]
    },
    {
      "cell_type": "code",
      "execution_count": null,
      "metadata": {
        "colab": {
          "base_uri": "https://localhost:8080/"
        },
        "id": "Q6I-5Q0oNOKs",
        "outputId": "fbaa62d3-e360-40fc-931d-7f912e475172"
      },
      "outputs": [
        {
          "output_type": "stream",
          "name": "stdout",
          "text": [
            "Mounted at /content/gdrive\n"
          ]
        }
      ],
      "source": [
        "from google.colab import drive\n",
        "drive.mount('/content/gdrive')"
      ]
    },
    {
      "cell_type": "code",
      "source": [
        "#create a id array\n",
        "import numpy as np\n",
        "arr1=np.array([1,2,3,4,5,6,7,8])\n",
        "print(arr1)\n"
      ],
      "metadata": {
        "colab": {
          "base_uri": "https://localhost:8080/"
        },
        "id": "WMnHRuHWNvV9",
        "outputId": "e6dfb7c6-fb95-4c67-929c-1667a423902f"
      },
      "execution_count": null,
      "outputs": [
        {
          "output_type": "stream",
          "name": "stdout",
          "text": [
            "[1 2 3 4 5 6 7 8]\n"
          ]
        }
      ]
    },
    {
      "cell_type": "code",
      "source": [
        "#access and manipulate elements in the array\n",
        "arr1[2]"
      ],
      "metadata": {
        "colab": {
          "base_uri": "https://localhost:8080/"
        },
        "id": "264VOA95O6ZF",
        "outputId": "1b10597c-243c-4c7e-bdab-54d21e39c1a3"
      },
      "execution_count": null,
      "outputs": [
        {
          "output_type": "execute_result",
          "data": {
            "text/plain": [
              "3"
            ]
          },
          "metadata": {},
          "execution_count": 3
        }
      ]
    },
    {
      "cell_type": "code",
      "source": [
        "#change element\n",
        "arr1[2]=5\n",
        "arr1"
      ],
      "metadata": {
        "colab": {
          "base_uri": "https://localhost:8080/"
        },
        "id": "VZcRAGxiP1p1",
        "outputId": "60938baa-f0fd-44f5-a243-b00855e7b013"
      },
      "execution_count": null,
      "outputs": [
        {
          "output_type": "execute_result",
          "data": {
            "text/plain": [
              "array([1, 2, 5, 4, 5, 6, 7, 8])"
            ]
          },
          "metadata": {},
          "execution_count": 5
        }
      ]
    },
    {
      "cell_type": "code",
      "source": [
        "#create 2-D array & check the shape of the array\n",
        "arr2=np.array([[1,2,3],[4,5,6]])\n",
        "print(arr2)"
      ],
      "metadata": {
        "colab": {
          "base_uri": "https://localhost:8080/"
        },
        "id": "mAfze-dbPRKE",
        "outputId": "19e44c1d-1d8f-4531-a7c2-472eaf1ac0be"
      },
      "execution_count": null,
      "outputs": [
        {
          "output_type": "stream",
          "name": "stdout",
          "text": [
            "[[1 2 3]\n",
            " [4 5 6]]\n"
          ]
        }
      ]
    },
    {
      "cell_type": "code",
      "source": [
        "#check shape of the array\n",
        "print(\"The shape is 2 rows and 3 columns:\",arr2.shape)"
      ],
      "metadata": {
        "colab": {
          "base_uri": "https://localhost:8080/"
        },
        "id": "NxtUL23CQ4Rt",
        "outputId": "224a6251-ce05-404c-c6a7-3b25c8f2d583"
      },
      "execution_count": null,
      "outputs": [
        {
          "output_type": "stream",
          "name": "stdout",
          "text": [
            "The shape is 2 rows and 3 columns: (2, 3)\n"
          ]
        }
      ]
    },
    {
      "cell_type": "code",
      "source": [
        "#access element from 2 d array\n",
        "print(arr2[0][2])\n",
        "print(arr2[0,2])\n",
        "print(arr2[0,-1])\n",
        "print(arr2[-1,0])\n"
      ],
      "metadata": {
        "colab": {
          "base_uri": "https://localhost:8080/"
        },
        "id": "QaqbPKo7R178",
        "outputId": "4b8b08e1-dac2-4148-e1cc-8c37830d686e"
      },
      "execution_count": null,
      "outputs": [
        {
          "output_type": "stream",
          "name": "stdout",
          "text": [
            "3\n",
            "3\n",
            "3\n",
            "4\n"
          ]
        }
      ]
    },
    {
      "cell_type": "code",
      "source": [
        "#create an array of string\n",
        "arr3=np.array(['India','china','USA','japan'])\n",
        "print(arr3)"
      ],
      "metadata": {
        "colab": {
          "base_uri": "https://localhost:8080/"
        },
        "id": "em5zSRbESpX8",
        "outputId": "58dc5457-d202-4366-f1e4-bfbd23c942fb"
      },
      "execution_count": null,
      "outputs": [
        {
          "output_type": "stream",
          "name": "stdout",
          "text": [
            "['India' 'china' 'USA' 'japan']\n"
          ]
        }
      ]
    },
    {
      "cell_type": "code",
      "source": [
        "#arrange()&linespace()values in shape\n",
        "arr=np.arange(0,20,2)\n",
        "print(arr)"
      ],
      "metadata": {
        "colab": {
          "base_uri": "https://localhost:8080/"
        },
        "id": "Prk74W5DTDSt",
        "outputId": "44bdd13e-db5e-4f68-f0a9-28174db34f72"
      },
      "execution_count": null,
      "outputs": [
        {
          "output_type": "stream",
          "name": "stdout",
          "text": [
            "[ 0  2  4  6  8 10 12 14 16 18]\n"
          ]
        }
      ]
    },
    {
      "cell_type": "code",
      "source": [
        "#create array of random values bw 0&1 in a given shape\n",
        "arr=np.random.rand(10)\n",
        "print(arr)\n",
        "print('\\n')\n",
        "arr=np.random.rand(3,4)\n",
        "print(arr)"
      ],
      "metadata": {
        "colab": {
          "base_uri": "https://localhost:8080/"
        },
        "id": "aFgRgHELTpq1",
        "outputId": "00597b2d-88a5-4b0e-eb17-a9388fc8b136"
      },
      "execution_count": null,
      "outputs": [
        {
          "output_type": "stream",
          "name": "stdout",
          "text": [
            "[0.94575172 0.88309652 0.63094776 0.7172427  0.36208007 0.15088257\n",
            " 0.66673449 0.70158404 0.59153842 0.37038474]\n",
            "\n",
            "\n",
            "[[0.32036532 0.21701663 0.26846404 0.34860093]\n",
            " [0.6943763  0.01825445 0.45358947 0.59129779]\n",
            " [0.53062852 0.96509667 0.16210016 0.90116563]]\n"
          ]
        }
      ]
    },
    {
      "cell_type": "code",
      "source": [
        "#create constant value\n",
        "print(np.full((4,6),10))"
      ],
      "metadata": {
        "colab": {
          "base_uri": "https://localhost:8080/"
        },
        "id": "8SqI67j7UWUE",
        "outputId": "121bc4c6-450f-4e6e-f12a-6c3e57e735ba"
      },
      "execution_count": null,
      "outputs": [
        {
          "output_type": "stream",
          "name": "stdout",
          "text": [
            "[[10 10 10 10 10 10]\n",
            " [10 10 10 10 10 10]\n",
            " [10 10 10 10 10 10]\n",
            " [10 10 10 10 10 10]]\n"
          ]
        }
      ]
    },
    {
      "cell_type": "code",
      "source": [
        "#repeat element using  repeat()& tail()\n",
        "arr=[0,1,2]\n",
        "print(np.repeat(arr,3))"
      ],
      "metadata": {
        "colab": {
          "base_uri": "https://localhost:8080/"
        },
        "id": "rHZFsMVwUlwl",
        "outputId": "dfab9799-4b8c-45c5-9ca5-91deef3d923a"
      },
      "execution_count": null,
      "outputs": [
        {
          "output_type": "stream",
          "name": "stdout",
          "text": [
            "[0 0 0 1 1 1 2 2 2]\n"
          ]
        }
      ]
    },
    {
      "cell_type": "code",
      "source": [
        "arr=[0,1,2]\n",
        "print(np.tile(arr,3))"
      ],
      "metadata": {
        "colab": {
          "base_uri": "https://localhost:8080/"
        },
        "id": "gGMvaLqlU7d0",
        "outputId": "69e199a4-6a43-4a08-d6ca-cb5de1b026bd"
      },
      "execution_count": null,
      "outputs": [
        {
          "output_type": "stream",
          "name": "stdout",
          "text": [
            "[0 1 2 0 1 2 0 1 2]\n"
          ]
        }
      ]
    },
    {
      "cell_type": "code",
      "source": [
        "#create identity matrix using eye() &identity()\n",
        "identity_matrix=np.eye(3)\n",
        "print(identity_matrix)"
      ],
      "metadata": {
        "colab": {
          "base_uri": "https://localhost:8080/"
        },
        "id": "V8LeUJh_VQGE",
        "outputId": "66f666c7-6722-4b8c-f0ff-8283477dac72"
      },
      "execution_count": null,
      "outputs": [
        {
          "output_type": "stream",
          "name": "stdout",
          "text": [
            "[[1. 0. 0.]\n",
            " [0. 1. 0.]\n",
            " [0. 0. 1.]]\n"
          ]
        }
      ]
    },
    {
      "cell_type": "code",
      "source": [
        "#identity()\n",
        "identity_matrix=np.identity(3)\n",
        "print(identity_matrix)"
      ],
      "metadata": {
        "colab": {
          "base_uri": "https://localhost:8080/"
        },
        "id": "_8qD0KwvVgPM",
        "outputId": "912f2a84-89e6-4310-bcae-4379bc26b846"
      },
      "execution_count": null,
      "outputs": [
        {
          "output_type": "stream",
          "name": "stdout",
          "text": [
            "[[1. 0. 0.]\n",
            " [0. 1. 0.]\n",
            " [0. 0. 1.]]\n"
          ]
        }
      ]
    },
    {
      "cell_type": "code",
      "source": [
        "#create 5*5 2D array for random numbers bw0&1\n",
        "arr=np.random.rand(5,5)\n",
        "print(arr)"
      ],
      "metadata": {
        "colab": {
          "base_uri": "https://localhost:8080/"
        },
        "id": "_qGe-JR6Vs5U",
        "outputId": "23019066-f097-4fe7-88e3-576b08972ea4"
      },
      "execution_count": null,
      "outputs": [
        {
          "output_type": "stream",
          "name": "stdout",
          "text": [
            "[[0.22717339 0.24588067 0.31083513 0.27797305 0.03168547]\n",
            " [0.52412742 0.84491705 0.27723015 0.18140193 0.46784739]\n",
            " [0.36977643 0.24339707 0.54981201 0.10643583 0.41339496]\n",
            " [0.20430058 0.93708932 0.75171444 0.55652209 0.31070776]\n",
            " [0.71031364 0.91038817 0.44101188 0.65719335 0.72985601]]\n"
          ]
        }
      ]
    },
    {
      "cell_type": "code",
      "source": [
        "#sum along the column\n",
        "print(np.sum(arr,axis=0))"
      ],
      "metadata": {
        "colab": {
          "base_uri": "https://localhost:8080/"
        },
        "id": "qlt79dEZWFP8",
        "outputId": "fb66837b-51d9-4318-da64-4a84c4daffe8"
      },
      "execution_count": null,
      "outputs": [
        {
          "output_type": "stream",
          "name": "stdout",
          "text": [
            "[2.03569146 3.18167229 2.33060362 1.77952625 1.95349159]\n"
          ]
        }
      ]
    },
    {
      "cell_type": "code",
      "source": [
        "#calculate mean.medin,sd&variance\n",
        "print(np.mean(arr))\n",
        "print(np.median(arr))\n",
        "print(np.std(arr))\n",
        "print(np.var(arr))\n"
      ],
      "metadata": {
        "colab": {
          "base_uri": "https://localhost:8080/"
        },
        "id": "F8O2d2suWRua",
        "outputId": "3e6dbc1e-ff2a-456f-bf13-b30b8c7bb78e"
      },
      "execution_count": null,
      "outputs": [
        {
          "output_type": "stream",
          "name": "stdout",
          "text": [
            "0.45123940773095134\n",
            "0.4133949633214852\n",
            "0.25122949808078754\n",
            "0.06311626070592442\n"
          ]
        }
      ]
    },
    {
      "cell_type": "code",
      "source": [
        "#sort an array sort()\n",
        "print(np.sort(arr,axis=1))"
      ],
      "metadata": {
        "colab": {
          "base_uri": "https://localhost:8080/"
        },
        "id": "FyY-5HHZWm28",
        "outputId": "365708e0-5b53-4c29-d87e-e693c107500b"
      },
      "execution_count": null,
      "outputs": [
        {
          "output_type": "stream",
          "name": "stdout",
          "text": [
            "[[0.03168547 0.22717339 0.24588067 0.27797305 0.31083513]\n",
            " [0.18140193 0.27723015 0.46784739 0.52412742 0.84491705]\n",
            " [0.10643583 0.24339707 0.36977643 0.41339496 0.54981201]\n",
            " [0.20430058 0.31070776 0.55652209 0.75171444 0.93708932]\n",
            " [0.44101188 0.65719335 0.71031364 0.72985601 0.91038817]]\n"
          ]
        }
      ]
    },
    {
      "cell_type": "code",
      "source": [
        "print(np.sort(arr,axis=0))"
      ],
      "metadata": {
        "colab": {
          "base_uri": "https://localhost:8080/"
        },
        "id": "3_oVBGnFXh0k",
        "outputId": "e372496c-31d6-4c66-ed2f-9d83a4ff642d"
      },
      "execution_count": null,
      "outputs": [
        {
          "output_type": "stream",
          "name": "stdout",
          "text": [
            "[[0.20430058 0.24339707 0.27723015 0.10643583 0.03168547]\n",
            " [0.22717339 0.24588067 0.31083513 0.18140193 0.31070776]\n",
            " [0.36977643 0.84491705 0.44101188 0.27797305 0.41339496]\n",
            " [0.52412742 0.91038817 0.54981201 0.55652209 0.46784739]\n",
            " [0.71031364 0.93708932 0.75171444 0.65719335 0.72985601]]\n"
          ]
        }
      ]
    },
    {
      "cell_type": "code",
      "source": [
        "#append\n",
        "arr=np.array([4,4,6,7])\n",
        "arr1=np.append(arr,8)\n",
        "arr1"
      ],
      "metadata": {
        "colab": {
          "base_uri": "https://localhost:8080/"
        },
        "id": "ogJvxzw-XYKs",
        "outputId": "311a58c8-4ce7-4733-ca76-54335c1fd08c"
      },
      "execution_count": null,
      "outputs": [
        {
          "output_type": "execute_result",
          "data": {
            "text/plain": [
              "array([4, 4, 6, 7, 8])"
            ]
          },
          "metadata": {},
          "execution_count": 36
        }
      ]
    },
    {
      "cell_type": "code",
      "source": [
        "arr2=np.append(arr2,[9,10,11])\n",
        "print(arr2)"
      ],
      "metadata": {
        "colab": {
          "base_uri": "https://localhost:8080/"
        },
        "id": "mUWB6bHOX8f8",
        "outputId": "1f3327aa-2357-417e-e37f-8141b48d172b"
      },
      "execution_count": null,
      "outputs": [
        {
          "output_type": "stream",
          "name": "stdout",
          "text": [
            "[ 1  2  3  4  5  6  9 10 11]\n"
          ]
        }
      ]
    },
    {
      "cell_type": "code",
      "source": [
        "#concatienate\n",
        "arr1=np.array([[1,2,3],[3,8,6]])\n",
        "arr2=np.array([[5,6,7],[3,7,5]])\n",
        "cat=np.concatenate((arr1,arr2),axis=0)\n",
        "print(cat)"
      ],
      "metadata": {
        "colab": {
          "base_uri": "https://localhost:8080/"
        },
        "id": "85a-lK63YhZr",
        "outputId": "480a7fbd-bec7-4fa5-8f5c-78b117fb7870"
      },
      "execution_count": null,
      "outputs": [
        {
          "output_type": "stream",
          "name": "stdout",
          "text": [
            "[[1 2 3]\n",
            " [3 8 6]\n",
            " [5 6 7]\n",
            " [3 7 5]]\n"
          ]
        }
      ]
    },
    {
      "cell_type": "code",
      "source": [
        "#concatienate\n",
        "arr1=np.array([[1,2,3],[3,8,6]])\n",
        "arr2=np.array([[5,6,7],[3,7,5]])\n",
        "cat=np.concatenate((arr1,arr2),axis=1)\n",
        "print(cat)"
      ],
      "metadata": {
        "colab": {
          "base_uri": "https://localhost:8080/"
        },
        "id": "SBvJylgXZG7P",
        "outputId": "4359d50d-ef37-4671-ec5e-ec50d5471b4a"
      },
      "execution_count": null,
      "outputs": [
        {
          "output_type": "stream",
          "name": "stdout",
          "text": [
            "[[1 2 3 5 6 7]\n",
            " [3 8 6 3 7 5]]\n"
          ]
        }
      ]
    },
    {
      "cell_type": "code",
      "source": [
        "arr2=np.array([4,5,6,7,8])\n",
        "print(arr2)\n",
        "print('\\n')\n",
        "arr=np.delete(arr2,[1,4])"
      ],
      "metadata": {
        "colab": {
          "base_uri": "https://localhost:8080/"
        },
        "id": "6HbufY1BZde0",
        "outputId": "78a1aee6-3caa-4447-87d2-c4458de98654"
      },
      "execution_count": null,
      "outputs": [
        {
          "output_type": "stream",
          "name": "stdout",
          "text": [
            "[4 5 6 7 8]\n",
            "\n",
            "\n"
          ]
        }
      ]
    },
    {
      "cell_type": "code",
      "source": [],
      "metadata": {
        "id": "3Nt2hljEdSm0"
      },
      "execution_count": null,
      "outputs": []
    }
  ]
}