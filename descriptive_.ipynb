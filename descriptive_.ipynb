{
  "cells": [
    {
      "cell_type": "markdown",
      "metadata": {
        "id": "view-in-github",
        "colab_type": "text"
      },
      "source": [
        "<a href=\"https://colab.research.google.com/github/mjvnc37/DataScince-in-python/blob/main/descriptive_.ipynb\" target=\"_parent\"><img src=\"https://colab.research.google.com/assets/colab-badge.svg\" alt=\"Open In Colab\"/></a>"
      ]
    },
    {
      "cell_type": "code",
      "execution_count": null,
      "id": "b50e1dd5",
      "metadata": {
        "id": "b50e1dd5",
        "outputId": "6e46e8ce-e2c5-4c2b-8bc3-dd874ba58878"
      },
      "outputs": [
        {
          "data": {
            "text/plain": [
              "DescribeResult(nobs=8, minmax=(1, 8), mean=4.5, variance=6.0, skewness=0.0, kurtosis=-1.2)"
            ]
          },
          "execution_count": 10,
          "metadata": {},
          "output_type": "execute_result"
        }
      ],
      "source": [
        "import scipy.stats\n",
        "import numpy as np\n",
        "y=[1,2,3,4,5,6,7,8]\n",
        "result = scipy.stats.describe(y, ddof=1, bias=False)\n",
        "result"
      ]
    },
    {
      "cell_type": "code",
      "execution_count": null,
      "id": "6cd3c254",
      "metadata": {
        "id": "6cd3c254",
        "outputId": "5cebd827-3453-4921-b68f-2379c1cc14b1"
      },
      "outputs": [
        {
          "ename": "NameError",
          "evalue": "name 'y' is not defined",
          "output_type": "error",
          "traceback": [
            "\u001b[1;31m---------------------------------------------------------------------------\u001b[0m",
            "\u001b[1;31mNameError\u001b[0m                                 Traceback (most recent call last)",
            "\u001b[1;32m~\\AppData\\Local\\Temp/ipykernel_1804/296182803.py\u001b[0m in \u001b[0;36m<module>\u001b[1;34m\u001b[0m\n\u001b[0;32m      1\u001b[0m \u001b[1;32mfrom\u001b[0m \u001b[0mscipy\u001b[0m \u001b[1;32mimport\u001b[0m \u001b[0mstats\u001b[0m\u001b[1;33m\u001b[0m\u001b[1;33m\u001b[0m\u001b[0m\n\u001b[0;32m      2\u001b[0m \u001b[0msample1\u001b[0m\u001b[1;33m=\u001b[0m\u001b[1;33m(\u001b[0m\u001b[1;36m1\u001b[0m\u001b[1;33m,\u001b[0m\u001b[1;36m2\u001b[0m\u001b[1;33m,\u001b[0m\u001b[1;36m5\u001b[0m\u001b[1;33m,\u001b[0m\u001b[1;36m4\u001b[0m\u001b[1;33m,\u001b[0m\u001b[1;36m8\u001b[0m\u001b[1;33m,\u001b[0m\u001b[1;36m9\u001b[0m\u001b[1;33m,\u001b[0m\u001b[1;36m12\u001b[0m\u001b[1;33m)\u001b[0m\u001b[1;33m\u001b[0m\u001b[1;33m\u001b[0m\u001b[0m\n\u001b[1;32m----> 3\u001b[1;33m \u001b[0mresult\u001b[0m \u001b[1;33m=\u001b[0m \u001b[0mscipy\u001b[0m\u001b[1;33m.\u001b[0m\u001b[0mstats\u001b[0m\u001b[1;33m.\u001b[0m\u001b[0mdescribe\u001b[0m\u001b[1;33m(\u001b[0m\u001b[0my\u001b[0m\u001b[1;33m,\u001b[0m \u001b[0mddof\u001b[0m\u001b[1;33m=\u001b[0m\u001b[1;36m1\u001b[0m\u001b[1;33m,\u001b[0m \u001b[0mbias\u001b[0m\u001b[1;33m=\u001b[0m\u001b[1;32mFalse\u001b[0m\u001b[1;33m)\u001b[0m\u001b[1;33m\u001b[0m\u001b[1;33m\u001b[0m\u001b[0m\n\u001b[0m\u001b[0;32m      4\u001b[0m \u001b[0mresult\u001b[0m\u001b[1;33m\u001b[0m\u001b[1;33m\u001b[0m\u001b[0m\n",
            "\u001b[1;31mNameError\u001b[0m: name 'y' is not defined"
          ]
        }
      ],
      "source": [
        "from scipy import stats\n",
        "sample1=(1,2,5,4,8,9,12)\n",
        "result = scipy.stats.describe(y, ddof=1, bias=False)\n",
        "result"
      ]
    },
    {
      "cell_type": "code",
      "execution_count": null,
      "id": "e2980e93",
      "metadata": {
        "id": "e2980e93",
        "outputId": "8e0d9375-72fa-4adf-9275-887e52b5a24f"
      },
      "outputs": [
        {
          "data": {
            "text/plain": [
              "8"
            ]
          },
          "execution_count": 11,
          "metadata": {},
          "output_type": "execute_result"
        }
      ],
      "source": [
        "result.nobs"
      ]
    },
    {
      "cell_type": "code",
      "execution_count": null,
      "id": "0243a498",
      "metadata": {
        "id": "0243a498",
        "outputId": "f6f8d334-352e-461e-82c0-8daa003cc0f9"
      },
      "outputs": [
        {
          "data": {
            "text/plain": [
              "1"
            ]
          },
          "execution_count": 15,
          "metadata": {},
          "output_type": "execute_result"
        }
      ],
      "source": [
        "result.minmax[0]"
      ]
    },
    {
      "cell_type": "code",
      "execution_count": null,
      "id": "e90f3bff",
      "metadata": {
        "id": "e90f3bff",
        "outputId": "8476fd72-1eef-4129-b605-b2481cb855a6"
      },
      "outputs": [
        {
          "data": {
            "text/plain": [
              "8"
            ]
          },
          "execution_count": 14,
          "metadata": {},
          "output_type": "execute_result"
        }
      ],
      "source": [
        "result.minmax[1]"
      ]
    },
    {
      "cell_type": "code",
      "execution_count": null,
      "id": "579d0569",
      "metadata": {
        "id": "579d0569",
        "outputId": "906b4d3c-012d-4065-d6cf-a0b63a441b35"
      },
      "outputs": [
        {
          "data": {
            "text/plain": [
              "4.5"
            ]
          },
          "execution_count": 16,
          "metadata": {},
          "output_type": "execute_result"
        }
      ],
      "source": [
        "result.mean\n"
      ]
    },
    {
      "cell_type": "code",
      "execution_count": null,
      "id": "54e1ab4f",
      "metadata": {
        "id": "54e1ab4f",
        "outputId": "b1e4fb53-be0c-4920-9b1e-192492fb2a11"
      },
      "outputs": [
        {
          "data": {
            "text/plain": [
              "6.0"
            ]
          },
          "execution_count": 17,
          "metadata": {},
          "output_type": "execute_result"
        }
      ],
      "source": [
        "result.variance"
      ]
    },
    {
      "cell_type": "markdown",
      "id": "a21c166c",
      "metadata": {
        "id": "a21c166c"
      },
      "source": []
    },
    {
      "cell_type": "code",
      "execution_count": null,
      "id": "a80ac40e",
      "metadata": {
        "id": "a80ac40e",
        "outputId": "2745a6df-68b8-4596-a38f-e17365ddf2fe"
      },
      "outputs": [
        {
          "data": {
            "text/html": [
              "<div>\n",
              "<style scoped>\n",
              "    .dataframe tbody tr th:only-of-type {\n",
              "        vertical-align: middle;\n",
              "    }\n",
              "\n",
              "    .dataframe tbody tr th {\n",
              "        vertical-align: top;\n",
              "    }\n",
              "\n",
              "    .dataframe thead th {\n",
              "        text-align: right;\n",
              "    }\n",
              "</style>\n",
              "<table border=\"1\" class=\"dataframe\">\n",
              "  <thead>\n",
              "    <tr style=\"text-align: right;\">\n",
              "      <th></th>\n",
              "      <th>0</th>\n",
              "    </tr>\n",
              "  </thead>\n",
              "  <tbody>\n",
              "    <tr>\n",
              "      <th>count</th>\n",
              "      <td>6.000000</td>\n",
              "    </tr>\n",
              "    <tr>\n",
              "      <th>mean</th>\n",
              "      <td>3.500000</td>\n",
              "    </tr>\n",
              "    <tr>\n",
              "      <th>std</th>\n",
              "      <td>1.870829</td>\n",
              "    </tr>\n",
              "    <tr>\n",
              "      <th>min</th>\n",
              "      <td>1.000000</td>\n",
              "    </tr>\n",
              "    <tr>\n",
              "      <th>25%</th>\n",
              "      <td>2.250000</td>\n",
              "    </tr>\n",
              "    <tr>\n",
              "      <th>50%</th>\n",
              "      <td>3.500000</td>\n",
              "    </tr>\n",
              "    <tr>\n",
              "      <th>75%</th>\n",
              "      <td>4.750000</td>\n",
              "    </tr>\n",
              "    <tr>\n",
              "      <th>max</th>\n",
              "      <td>6.000000</td>\n",
              "    </tr>\n",
              "  </tbody>\n",
              "</table>\n",
              "</div>"
            ],
            "text/plain": [
              "              0\n",
              "count  6.000000\n",
              "mean   3.500000\n",
              "std    1.870829\n",
              "min    1.000000\n",
              "25%    2.250000\n",
              "50%    3.500000\n",
              "75%    4.750000\n",
              "max    6.000000"
            ]
          },
          "execution_count": 32,
          "metadata": {},
          "output_type": "execute_result"
        }
      ],
      "source": [
        "import pandas as pd\n",
        "z=(1,2,3,4,5,6)\n",
        "df=pd.DataFrame(z)\n",
        "result=df.describe()\n",
        "result.loc[:]"
      ]
    },
    {
      "cell_type": "code",
      "execution_count": null,
      "id": "7816341d",
      "metadata": {
        "id": "7816341d",
        "outputId": "fcaff415-f2fa-4d0a-87f0-4eb0ac7a60bb"
      },
      "outputs": [
        {
          "data": {
            "text/plain": [
              "0    3.5\n",
              "Name: mean, dtype: float64"
            ]
          },
          "execution_count": 33,
          "metadata": {},
          "output_type": "execute_result"
        }
      ],
      "source": [
        "result.loc['mean']"
      ]
    },
    {
      "cell_type": "code",
      "execution_count": null,
      "id": "6048f69d",
      "metadata": {
        "id": "6048f69d",
        "outputId": "0c74933c-b3b2-462a-a495-b0e629d1da5f"
      },
      "outputs": [
        {
          "data": {
            "text/plain": [
              "0    1.870829\n",
              "Name: std, dtype: float64"
            ]
          },
          "execution_count": 34,
          "metadata": {},
          "output_type": "execute_result"
        }
      ],
      "source": [
        "result.loc['std']"
      ]
    },
    {
      "cell_type": "code",
      "execution_count": null,
      "id": "817f336e",
      "metadata": {
        "scrolled": true,
        "id": "817f336e",
        "outputId": "9e5085e4-6ff4-4b09-c116-dcc15e70198f"
      },
      "outputs": [
        {
          "data": {
            "text/plain": [
              "0    1.0\n",
              "Name: min, dtype: float64"
            ]
          },
          "execution_count": 36,
          "metadata": {},
          "output_type": "execute_result"
        }
      ],
      "source": [
        "result.loc['min']"
      ]
    },
    {
      "cell_type": "code",
      "execution_count": null,
      "id": "069fe023",
      "metadata": {
        "id": "069fe023",
        "outputId": "fafccaee-7774-4bb3-c1a6-f67d4f434e5a"
      },
      "outputs": [
        {
          "data": {
            "text/plain": [
              "0    6.0\n",
              "Name: max, dtype: float64"
            ]
          },
          "execution_count": 37,
          "metadata": {},
          "output_type": "execute_result"
        }
      ],
      "source": [
        "result.loc['max']"
      ]
    },
    {
      "cell_type": "code",
      "execution_count": null,
      "id": "456427f5",
      "metadata": {
        "id": "456427f5",
        "outputId": "c3cea6cf-c0e4-487c-f7f8-1c53e5248802"
      },
      "outputs": [
        {
          "data": {
            "text/plain": [
              "0    2.25\n",
              "Name: 25%, dtype: float64"
            ]
          },
          "execution_count": 38,
          "metadata": {},
          "output_type": "execute_result"
        }
      ],
      "source": [
        "result.loc['25%']"
      ]
    },
    {
      "cell_type": "code",
      "execution_count": null,
      "id": "57abb00b",
      "metadata": {
        "id": "57abb00b",
        "outputId": "3da27a8a-9485-4976-9ce8-8cf3c48440da"
      },
      "outputs": [
        {
          "data": {
            "text/plain": [
              "0    3.5\n",
              "Name: 50%, dtype: float64"
            ]
          },
          "execution_count": 39,
          "metadata": {},
          "output_type": "execute_result"
        }
      ],
      "source": [
        "result.loc['50%']"
      ]
    },
    {
      "cell_type": "code",
      "execution_count": null,
      "id": "81b8a757",
      "metadata": {
        "id": "81b8a757",
        "outputId": "03ee635b-6509-42e7-a5c5-a86ae64ac0d5"
      },
      "outputs": [
        {
          "data": {
            "text/plain": [
              "0    4.75\n",
              "Name: 75%, dtype: float64"
            ]
          },
          "execution_count": 47,
          "metadata": {},
          "output_type": "execute_result"
        }
      ],
      "source": [
        "result.loc['75%']"
      ]
    },
    {
      "cell_type": "code",
      "execution_count": null,
      "id": "f46615e2",
      "metadata": {
        "id": "f46615e2"
      },
      "outputs": [],
      "source": [
        "import pandas as pd\n",
        "import numpy as np\n",
        "x = list(range(-10, 11))\n",
        "y = [0, 2, 2, 2, 2, 3, 3, 6, 7, 4, 7, 6, 6, 9, 4,\n",
        "5, 5, 10, 11, 12, 14]\n",
        "x_, y_ = np.array(x), np.array(y)\n",
        "x__, y__ = pd.Series(x_), pd.Series(y_)"
      ]
    },
    {
      "cell_type": "code",
      "execution_count": null,
      "id": "16b379f8",
      "metadata": {
        "id": "16b379f8",
        "outputId": "1047089f-1961-4def-9634-f68bbe08f94d"
      },
      "outputs": [
        {
          "data": {
            "text/plain": [
              "[-10, -9, -8, -7, -6, -5, -4, -3, -2, -1, 0, 1, 2, 3, 4, 5, 6, 7, 8, 9, 10]"
            ]
          },
          "execution_count": 98,
          "metadata": {},
          "output_type": "execute_result"
        }
      ],
      "source": [
        "x"
      ]
    },
    {
      "cell_type": "code",
      "execution_count": null,
      "id": "e17c6cd0",
      "metadata": {
        "id": "e17c6cd0",
        "outputId": "de7530b0-783e-41ab-d8bd-1810b5f32845"
      },
      "outputs": [
        {
          "data": {
            "text/plain": [
              "[0, 2, 2, 2, 2, 3, 3, 6, 7, 4, 7, 6, 6, 9, 4, 5, 5, 10, 11, 12, 14]"
            ]
          },
          "execution_count": 99,
          "metadata": {},
          "output_type": "execute_result"
        }
      ],
      "source": [
        "y"
      ]
    },
    {
      "cell_type": "code",
      "execution_count": null,
      "id": "b0411378",
      "metadata": {
        "id": "b0411378",
        "outputId": "88515729-6d0f-400a-8f14-f4ece9395142"
      },
      "outputs": [
        {
          "data": {
            "text/plain": [
              "19.95"
            ]
          },
          "execution_count": 100,
          "metadata": {},
          "output_type": "execute_result"
        }
      ],
      "source": [
        "n = len(x)\n",
        "mean_x, mean_y = sum(x) / n, sum(y) / n\n",
        "cov_xy = (sum((x[k] - mean_x) * (y[k] - mean_y) for k in range(n))/ (n - 1))\n",
        "cov_xy"
      ]
    },
    {
      "cell_type": "code",
      "execution_count": null,
      "id": "ad05613a",
      "metadata": {
        "id": "ad05613a",
        "outputId": "b6028842-a51a-4f69-fb6c-cbd3fef79ccf"
      },
      "outputs": [
        {
          "name": "stdout",
          "output_type": "stream",
          "text": [
            "[[36.66666667 19.        ]\n",
            " [19.         13.25170068]]\n"
          ]
        }
      ],
      "source": [
        "cov_matrix = np.cov(x_,y_, bias=True)\n",
        "print(cov_matrix)"
      ]
    },
    {
      "cell_type": "code",
      "execution_count": null,
      "id": "4b874c20",
      "metadata": {
        "id": "4b874c20"
      },
      "outputs": [],
      "source": []
    }
  ],
  "metadata": {
    "kernelspec": {
      "display_name": "Python 3 (ipykernel)",
      "language": "python",
      "name": "python3"
    },
    "language_info": {
      "codemirror_mode": {
        "name": "ipython",
        "version": 3
      },
      "file_extension": ".py",
      "mimetype": "text/x-python",
      "name": "python",
      "nbconvert_exporter": "python",
      "pygments_lexer": "ipython3",
      "version": "3.9.7"
    },
    "colab": {
      "provenance": [],
      "include_colab_link": true
    }
  },
  "nbformat": 4,
  "nbformat_minor": 5
}