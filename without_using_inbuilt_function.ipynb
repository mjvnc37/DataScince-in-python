{
  "nbformat": 4,
  "nbformat_minor": 0,
  "metadata": {
    "colab": {
      "provenance": [],
      "authorship_tag": "ABX9TyPjWtekSofIU8yJvjK4esZ/",
      "include_colab_link": true
    },
    "kernelspec": {
      "name": "python3",
      "display_name": "Python 3"
    },
    "language_info": {
      "name": "python"
    }
  },
  "cells": [
    {
      "cell_type": "markdown",
      "metadata": {
        "id": "view-in-github",
        "colab_type": "text"
      },
      "source": [
        "<a href=\"https://colab.research.google.com/github/mjvnc37/DataScince-in-python/blob/main/without_using_inbuilt_function.ipynb\" target=\"_parent\"><img src=\"https://colab.research.google.com/assets/colab-badge.svg\" alt=\"Open In Colab\"/></a>"
      ]
    },
    {
      "cell_type": "code",
      "execution_count": null,
      "metadata": {
        "id": "b_3tEoiYLtMg",
        "colab": {
          "base_uri": "https://localhost:8080/"
        },
        "outputId": "836c06d4-bc13-45da-dd40-d5ab0bd039bc"
      },
      "outputs": [
        {
          "output_type": "stream",
          "name": "stdout",
          "text": [
            "0.425\n"
          ]
        }
      ],
      "source": [
        "import math\n",
        "\n",
        "xs = [0.5,0.7,0.3,0.2]     # values (must be floats!)\n",
        "mean = sum(xs) / len(xs)   # mean\n",
        "var  = sum(pow(x-mean,2) for x in xs) / len(xs)  # variance\n",
        "std  = math.sqrt(var)  # standard deviation\n",
        "print(mean)"
      ]
    },
    {
      "cell_type": "code",
      "source": [
        "print(var)"
      ],
      "metadata": {
        "colab": {
          "base_uri": "https://localhost:8080/"
        },
        "id": "4VUXSR5z_ARY",
        "outputId": "d10d9e01-51cc-425b-c345-dd4cd89ff8c7"
      },
      "execution_count": null,
      "outputs": [
        {
          "output_type": "stream",
          "name": "stdout",
          "text": [
            "0.03687499999999999\n"
          ]
        }
      ]
    },
    {
      "cell_type": "code",
      "source": [
        "print(std)"
      ],
      "metadata": {
        "colab": {
          "base_uri": "https://localhost:8080/"
        },
        "id": "TmzakGdc_DC4",
        "outputId": "7f59e24b-f4c3-41d0-e738-ab60f2e81719"
      },
      "execution_count": null,
      "outputs": [
        {
          "output_type": "stream",
          "name": "stdout",
          "text": [
            "0.19202864369671518\n"
          ]
        }
      ]
    },
    {
      "cell_type": "code",
      "source": [
        "def calculate_mean(data):\n",
        "    total = sum(data)\n",
        "    mean = total / len(data)\n",
        "    return mean\n",
        "\n",
        "def calculate_mode(data):\n",
        "    frequency_table = {}\n",
        "    for value in data:\n",
        "        frequency_table[value] = frequency_table.get(value, 0) + 1\n",
        "    max_frequency = max(frequency_table.values())\n",
        "    mode = [value for value, frequency in frequency_table.items() if frequency == max_frequency]\n",
        "    return mode\n",
        "\n",
        "def calculate_median(data):\n",
        "    sorted_data = sorted(data)\n",
        "    n = len(data)\n",
        "    if n % 2 == 1:\n",
        "        median = sorted_data[n // 2]\n",
        "    else:\n",
        "        median = (sorted_data[n // 2 - 1] + sorted_data[n // 2]) / 2\n",
        "    return median\n",
        "\n",
        "def calculate_variance(data):\n",
        "    mean = calculate_mean(data)\n",
        "    squared_diff = [(value - mean) ** 2 for value in data]\n",
        "    variance = sum(squared_diff) / len(data)\n",
        "    return variance\n",
        "\n",
        "def calculate_standard_deviation(data):\n",
        "    variance = calculate_variance(data)\n",
        "    std_deviation = variance ** 0.5\n",
        "    return std_deviation\n",
        "\n",
        "# Example usage\n",
        "dataset = [1, 2, 3, 4, 5, 5, 6, 7, 8, 9]\n",
        "mean = calculate_mean(dataset)\n",
        "mode = calculate_mode(dataset)\n",
        "median = calculate_median(dataset)\n",
        "variance = calculate_variance(dataset)\n",
        "std_deviation = calculate_standard_deviation(dataset)\n",
        "\n",
        "print(\"Mean:\", mean)\n",
        "print(\"Mode:\", mode)\n",
        "print(\"Median:\", median)\n",
        "print(\"Variance:\", variance)\n",
        "print(\"Standard Deviation:\", std_deviation)"
      ],
      "metadata": {
        "colab": {
          "base_uri": "https://localhost:8080/"
        },
        "id": "c5YNjpRm_FvI",
        "outputId": "b7fcdfbb-9793-40d5-cb3d-a508b6d0b7c9"
      },
      "execution_count": null,
      "outputs": [
        {
          "output_type": "stream",
          "name": "stdout",
          "text": [
            "Mean: 5.0\n",
            "Mode: [5]\n",
            "Median: 5.0\n",
            "Variance: 6.0\n",
            "Standard Deviation: 2.449489742783178\n"
          ]
        }
      ]
    }
  ]
}